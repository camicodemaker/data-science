{
 "cells": [
  {
   "cell_type": "code",
   "execution_count": 10,
   "metadata": {},
   "outputs": [],
   "source": [
    "import pandas as pd\n",
    "import seaborn as sns\n",
    "import matplotlib.pyplot as plt\n",
    "import numpy as np"
   ]
  },
  {
   "cell_type": "code",
   "execution_count": 2,
   "metadata": {},
   "outputs": [
    {
     "data": {
      "text/html": [
       "<div>\n",
       "<style scoped>\n",
       "    .dataframe tbody tr th:only-of-type {\n",
       "        vertical-align: middle;\n",
       "    }\n",
       "\n",
       "    .dataframe tbody tr th {\n",
       "        vertical-align: top;\n",
       "    }\n",
       "\n",
       "    .dataframe thead th {\n",
       "        text-align: right;\n",
       "    }\n",
       "</style>\n",
       "<table border=\"1\" class=\"dataframe\">\n",
       "  <thead>\n",
       "    <tr style=\"text-align: right;\">\n",
       "      <th></th>\n",
       "      <th>Sexo</th>\n",
       "      <th>Edad</th>\n",
       "      <th>Estado Civil</th>\n",
       "      <th>Region</th>\n",
       "      <th>Servicios</th>\n",
       "      <th>Bienes</th>\n",
       "      <th>Empleados</th>\n",
       "      <th>Horas</th>\n",
       "      <th>Nivel_Educativo</th>\n",
       "      <th>Tipo de Casa</th>\n",
       "      <th>Estrato</th>\n",
       "      <th>tipo_vivienda</th>\n",
       "      <th>Salario</th>\n",
       "      <th>Ingresos</th>\n",
       "    </tr>\n",
       "  </thead>\n",
       "  <tbody>\n",
       "    <tr>\n",
       "      <th>0</th>\n",
       "      <td>Hombre</td>\n",
       "      <td>28</td>\n",
       "      <td>Esta soltero (a)</td>\n",
       "      <td>PACÍFICA</td>\n",
       "      <td>5</td>\n",
       "      <td>71.0</td>\n",
       "      <td>0.40</td>\n",
       "      <td>0.0</td>\n",
       "      <td>5.6</td>\n",
       "      <td>1</td>\n",
       "      <td>2.0</td>\n",
       "      <td>3</td>\n",
       "      <td>335583.333333</td>\n",
       "      <td>335583.333333</td>\n",
       "    </tr>\n",
       "    <tr>\n",
       "      <th>1</th>\n",
       "      <td>Mujer</td>\n",
       "      <td>26</td>\n",
       "      <td>Esta soltero (a)</td>\n",
       "      <td>PACÍFICA</td>\n",
       "      <td>5</td>\n",
       "      <td>75.0</td>\n",
       "      <td>0.25</td>\n",
       "      <td>0.0</td>\n",
       "      <td>4.0</td>\n",
       "      <td>1</td>\n",
       "      <td>2.0</td>\n",
       "      <td>3</td>\n",
       "      <td>190000.000000</td>\n",
       "      <td>190000.000000</td>\n",
       "    </tr>\n",
       "    <tr>\n",
       "      <th>2</th>\n",
       "      <td>Mujer</td>\n",
       "      <td>22</td>\n",
       "      <td>No esta casado(a) y vive en pareja hace dos añ...</td>\n",
       "      <td>PACÍFICA</td>\n",
       "      <td>5</td>\n",
       "      <td>165.0</td>\n",
       "      <td>0.50</td>\n",
       "      <td>0.0</td>\n",
       "      <td>8.0</td>\n",
       "      <td>2</td>\n",
       "      <td>1.0</td>\n",
       "      <td>3</td>\n",
       "      <td>937500.000000</td>\n",
       "      <td>937500.000000</td>\n",
       "    </tr>\n",
       "    <tr>\n",
       "      <th>3</th>\n",
       "      <td>Hombre</td>\n",
       "      <td>33</td>\n",
       "      <td>Esta soltero (a)</td>\n",
       "      <td>PACÍFICA</td>\n",
       "      <td>4</td>\n",
       "      <td>54.0</td>\n",
       "      <td>1.00</td>\n",
       "      <td>0.0</td>\n",
       "      <td>4.0</td>\n",
       "      <td>2</td>\n",
       "      <td>2.0</td>\n",
       "      <td>1</td>\n",
       "      <td>700000.000000</td>\n",
       "      <td>700000.000000</td>\n",
       "    </tr>\n",
       "    <tr>\n",
       "      <th>4</th>\n",
       "      <td>Mujer</td>\n",
       "      <td>25</td>\n",
       "      <td>Esta soltero (a)</td>\n",
       "      <td>PACÍFICA</td>\n",
       "      <td>4</td>\n",
       "      <td>35.0</td>\n",
       "      <td>0.50</td>\n",
       "      <td>0.0</td>\n",
       "      <td>5.5</td>\n",
       "      <td>1</td>\n",
       "      <td>1.0</td>\n",
       "      <td>3</td>\n",
       "      <td>230750.000000</td>\n",
       "      <td>301033.333333</td>\n",
       "    </tr>\n",
       "  </tbody>\n",
       "</table>\n",
       "</div>"
      ],
      "text/plain": [
       "     Sexo  Edad                                       Estado Civil    Region  \\\n",
       "0  Hombre    28                                   Esta soltero (a)  PACÍFICA   \n",
       "1   Mujer    26                                   Esta soltero (a)  PACÍFICA   \n",
       "2   Mujer    22  No esta casado(a) y vive en pareja hace dos añ...  PACÍFICA   \n",
       "3  Hombre    33                                   Esta soltero (a)  PACÍFICA   \n",
       "4   Mujer    25                                   Esta soltero (a)  PACÍFICA   \n",
       "\n",
       "   Servicios  Bienes  Empleados  Horas  Nivel_Educativo  Tipo de Casa  \\\n",
       "0          5    71.0       0.40    0.0              5.6             1   \n",
       "1          5    75.0       0.25    0.0              4.0             1   \n",
       "2          5   165.0       0.50    0.0              8.0             2   \n",
       "3          4    54.0       1.00    0.0              4.0             2   \n",
       "4          4    35.0       0.50    0.0              5.5             1   \n",
       "\n",
       "   Estrato  tipo_vivienda        Salario       Ingresos  \n",
       "0      2.0              3  335583.333333  335583.333333  \n",
       "1      2.0              3  190000.000000  190000.000000  \n",
       "2      1.0              3  937500.000000  937500.000000  \n",
       "3      2.0              1  700000.000000  700000.000000  \n",
       "4      1.0              3  230750.000000  301033.333333  "
      ]
     },
     "execution_count": 2,
     "metadata": {},
     "output_type": "execute_result"
    }
   ],
   "source": [
    "ruta= \"C:/Users/camil/OneDrive/Desktop/Data Science/final_df.xlsx\"\n",
    "\n",
    "df=pd.read_excel(ruta)\n",
    "#encoding=\"iso-8859-1\"\n",
    "\n",
    "df.head(5)"
   ]
  },
  {
   "cell_type": "code",
   "execution_count": 4,
   "metadata": {},
   "outputs": [
    {
     "data": {
      "text/plain": [
       "(2299, 14)"
      ]
     },
     "execution_count": 4,
     "metadata": {},
     "output_type": "execute_result"
    }
   ],
   "source": [
    "df.shape"
   ]
  },
  {
   "cell_type": "code",
   "execution_count": 5,
   "metadata": {},
   "outputs": [
    {
     "data": {
      "text/plain": [
       "['Sexo',\n",
       " 'Edad',\n",
       " 'Estado Civil',\n",
       " 'Region',\n",
       " 'Servicios',\n",
       " 'Bienes',\n",
       " 'Empleados',\n",
       " 'Horas',\n",
       " 'Nivel_Educativo',\n",
       " 'Tipo de Casa',\n",
       " 'Estrato',\n",
       " 'tipo_vivienda',\n",
       " 'Salario',\n",
       " 'Ingresos']"
      ]
     },
     "execution_count": 5,
     "metadata": {},
     "output_type": "execute_result"
    }
   ],
   "source": [
    "df.columns.to_list() "
   ]
  },
  {
   "cell_type": "code",
   "execution_count": 6,
   "metadata": {},
   "outputs": [
    {
     "data": {
      "text/html": [
       "<div>\n",
       "<style scoped>\n",
       "    .dataframe tbody tr th:only-of-type {\n",
       "        vertical-align: middle;\n",
       "    }\n",
       "\n",
       "    .dataframe tbody tr th {\n",
       "        vertical-align: top;\n",
       "    }\n",
       "\n",
       "    .dataframe thead th {\n",
       "        text-align: right;\n",
       "    }\n",
       "</style>\n",
       "<table border=\"1\" class=\"dataframe\">\n",
       "  <thead>\n",
       "    <tr style=\"text-align: right;\">\n",
       "      <th></th>\n",
       "      <th>Edad</th>\n",
       "      <th>Servicios</th>\n",
       "      <th>Bienes</th>\n",
       "      <th>Empleados</th>\n",
       "      <th>Horas</th>\n",
       "      <th>Nivel_Educativo</th>\n",
       "      <th>Tipo de Casa</th>\n",
       "      <th>Estrato</th>\n",
       "      <th>tipo_vivienda</th>\n",
       "      <th>Salario</th>\n",
       "      <th>Ingresos</th>\n",
       "    </tr>\n",
       "  </thead>\n",
       "  <tbody>\n",
       "    <tr>\n",
       "      <th>count</th>\n",
       "      <td>2299.000</td>\n",
       "      <td>2299.000</td>\n",
       "      <td>2299.000</td>\n",
       "      <td>2299.000</td>\n",
       "      <td>2299.000</td>\n",
       "      <td>2299.000</td>\n",
       "      <td>2299.000</td>\n",
       "      <td>2289.000</td>\n",
       "      <td>2299.000</td>\n",
       "      <td>2.299000e+03</td>\n",
       "      <td>2.299000e+03</td>\n",
       "    </tr>\n",
       "    <tr>\n",
       "      <th>mean</th>\n",
       "      <td>36.210</td>\n",
       "      <td>4.373</td>\n",
       "      <td>172.450</td>\n",
       "      <td>0.641</td>\n",
       "      <td>1.703</td>\n",
       "      <td>8.062</td>\n",
       "      <td>1.465</td>\n",
       "      <td>2.104</td>\n",
       "      <td>2.411</td>\n",
       "      <td>7.776759e+05</td>\n",
       "      <td>9.247212e+05</td>\n",
       "    </tr>\n",
       "    <tr>\n",
       "      <th>std</th>\n",
       "      <td>10.408</td>\n",
       "      <td>0.992</td>\n",
       "      <td>176.833</td>\n",
       "      <td>0.270</td>\n",
       "      <td>8.265</td>\n",
       "      <td>4.025</td>\n",
       "      <td>0.633</td>\n",
       "      <td>1.432</td>\n",
       "      <td>1.277</td>\n",
       "      <td>1.065360e+06</td>\n",
       "      <td>1.555414e+06</td>\n",
       "    </tr>\n",
       "    <tr>\n",
       "      <th>min</th>\n",
       "      <td>15.000</td>\n",
       "      <td>0.000</td>\n",
       "      <td>0.000</td>\n",
       "      <td>0.000</td>\n",
       "      <td>0.000</td>\n",
       "      <td>0.000</td>\n",
       "      <td>1.000</td>\n",
       "      <td>0.000</td>\n",
       "      <td>1.000</td>\n",
       "      <td>1.000000e+05</td>\n",
       "      <td>1.000000e+05</td>\n",
       "    </tr>\n",
       "    <tr>\n",
       "      <th>25%</th>\n",
       "      <td>28.000</td>\n",
       "      <td>4.000</td>\n",
       "      <td>45.000</td>\n",
       "      <td>0.500</td>\n",
       "      <td>0.000</td>\n",
       "      <td>5.000</td>\n",
       "      <td>1.000</td>\n",
       "      <td>1.000</td>\n",
       "      <td>1.000</td>\n",
       "      <td>2.881944e+05</td>\n",
       "      <td>3.302910e+05</td>\n",
       "    </tr>\n",
       "    <tr>\n",
       "      <th>50%</th>\n",
       "      <td>34.000</td>\n",
       "      <td>5.000</td>\n",
       "      <td>128.000</td>\n",
       "      <td>0.500</td>\n",
       "      <td>0.000</td>\n",
       "      <td>7.667</td>\n",
       "      <td>1.000</td>\n",
       "      <td>2.000</td>\n",
       "      <td>3.000</td>\n",
       "      <td>4.676522e+05</td>\n",
       "      <td>5.175000e+05</td>\n",
       "    </tr>\n",
       "    <tr>\n",
       "      <th>75%</th>\n",
       "      <td>42.000</td>\n",
       "      <td>5.000</td>\n",
       "      <td>229.000</td>\n",
       "      <td>1.000</td>\n",
       "      <td>0.000</td>\n",
       "      <td>10.667</td>\n",
       "      <td>2.000</td>\n",
       "      <td>3.000</td>\n",
       "      <td>3.000</td>\n",
       "      <td>8.522222e+05</td>\n",
       "      <td>9.549167e+05</td>\n",
       "    </tr>\n",
       "    <tr>\n",
       "      <th>max</th>\n",
       "      <td>79.000</td>\n",
       "      <td>5.000</td>\n",
       "      <td>2575.000</td>\n",
       "      <td>1.000</td>\n",
       "      <td>182.000</td>\n",
       "      <td>16.000</td>\n",
       "      <td>6.000</td>\n",
       "      <td>9.000</td>\n",
       "      <td>6.000</td>\n",
       "      <td>1.827794e+07</td>\n",
       "      <td>2.657101e+07</td>\n",
       "    </tr>\n",
       "  </tbody>\n",
       "</table>\n",
       "</div>"
      ],
      "text/plain": [
       "           Edad  Servicios    Bienes  Empleados     Horas  Nivel_Educativo  \\\n",
       "count  2299.000   2299.000  2299.000   2299.000  2299.000         2299.000   \n",
       "mean     36.210      4.373   172.450      0.641     1.703            8.062   \n",
       "std      10.408      0.992   176.833      0.270     8.265            4.025   \n",
       "min      15.000      0.000     0.000      0.000     0.000            0.000   \n",
       "25%      28.000      4.000    45.000      0.500     0.000            5.000   \n",
       "50%      34.000      5.000   128.000      0.500     0.000            7.667   \n",
       "75%      42.000      5.000   229.000      1.000     0.000           10.667   \n",
       "max      79.000      5.000  2575.000      1.000   182.000           16.000   \n",
       "\n",
       "       Tipo de Casa   Estrato  tipo_vivienda       Salario      Ingresos  \n",
       "count      2299.000  2289.000       2299.000  2.299000e+03  2.299000e+03  \n",
       "mean          1.465     2.104          2.411  7.776759e+05  9.247212e+05  \n",
       "std           0.633     1.432          1.277  1.065360e+06  1.555414e+06  \n",
       "min           1.000     0.000          1.000  1.000000e+05  1.000000e+05  \n",
       "25%           1.000     1.000          1.000  2.881944e+05  3.302910e+05  \n",
       "50%           1.000     2.000          3.000  4.676522e+05  5.175000e+05  \n",
       "75%           2.000     3.000          3.000  8.522222e+05  9.549167e+05  \n",
       "max           6.000     9.000          6.000  1.827794e+07  2.657101e+07  "
      ]
     },
     "execution_count": 6,
     "metadata": {},
     "output_type": "execute_result"
    }
   ],
   "source": [
    "round(df.describe(),3)"
   ]
  },
  {
   "cell_type": "code",
   "execution_count": null,
   "metadata": {},
   "outputs": [],
   "source": []
  },
  {
   "cell_type": "code",
   "execution_count": 7,
   "metadata": {},
   "outputs": [],
   "source": [
    "#Recodificacion variable tipo__vivienda\n",
    "df[\"tipo_vivienda\"]=df[\"tipo_vivienda\"].replace([1,2,3,4,5,6],[\"Casa\",\"Apartamento\",\"Cuarto en Inquilinato\",\"Cuarto Otro\",\"Indígena\",\"Otra\"])"
   ]
  },
  {
   "cell_type": "code",
   "execution_count": 9,
   "metadata": {},
   "outputs": [
    {
     "data": {
      "text/plain": [
       "Cuarto en Inquilinato    951\n",
       "Casa                     892\n",
       "Cuarto Otro              232\n",
       "Indígena                 107\n",
       "Apartamento               92\n",
       "Otra                      25\n",
       "Name: tipo_vivienda, dtype: int64"
      ]
     },
     "execution_count": 9,
     "metadata": {},
     "output_type": "execute_result"
    }
   ],
   "source": [
    "df.tipo_vivienda.value_counts()"
   ]
  },
  {
   "cell_type": "code",
   "execution_count": 13,
   "metadata": {},
   "outputs": [],
   "source": [
    "#Recodificacion variable estrato\n",
    "df[\"Estrato\"]=df[\"Estrato\"].replace([0,1,2,3,4,5,6,9],[\"0\",\"1\",\"2\",\"3\",\"4\",\"5\",\"6\",np.nan])"
   ]
  },
  {
   "cell_type": "code",
   "execution_count": 14,
   "metadata": {},
   "outputs": [
    {
     "data": {
      "text/plain": [
       "1    756\n",
       "2    749\n",
       "3    496\n",
       "4    128\n",
       "0     87\n",
       "5     16\n",
       "6     10\n",
       "Name: Estrato, dtype: int64"
      ]
     },
     "execution_count": 14,
     "metadata": {},
     "output_type": "execute_result"
    }
   ],
   "source": [
    "df.Estrato.value_counts()"
   ]
  },
  {
   "cell_type": "code",
   "execution_count": 15,
   "metadata": {},
   "outputs": [],
   "source": [
    "df[\"Tipo de Casa\"]=df[\"Tipo de Casa\"].replace([1,2,3,4,5,6],[\"Propia pagada\",\"Propia pagando\", \"En arriendo\", \"En usufructo\",\"Sin título\",\"Otra\"])"
   ]
  },
  {
   "cell_type": "code",
   "execution_count": 16,
   "metadata": {},
   "outputs": [
    {
     "data": {
      "text/plain": [
       "Propia pagada     1356\n",
       "Propia pagando     855\n",
       "En arriendo         58\n",
       "En usufructo        25\n",
       "Otra                 3\n",
       "Sin título           2\n",
       "Name: Tipo de Casa, dtype: int64"
      ]
     },
     "execution_count": 16,
     "metadata": {},
     "output_type": "execute_result"
    }
   ],
   "source": [
    "df[\"Tipo de Casa\"].value_counts()"
   ]
  },
  {
   "cell_type": "code",
   "execution_count": 17,
   "metadata": {},
   "outputs": [
    {
     "data": {
      "text/html": [
       "<div>\n",
       "<style scoped>\n",
       "    .dataframe tbody tr th:only-of-type {\n",
       "        vertical-align: middle;\n",
       "    }\n",
       "\n",
       "    .dataframe tbody tr th {\n",
       "        vertical-align: top;\n",
       "    }\n",
       "\n",
       "    .dataframe thead th {\n",
       "        text-align: right;\n",
       "    }\n",
       "</style>\n",
       "<table border=\"1\" class=\"dataframe\">\n",
       "  <thead>\n",
       "    <tr style=\"text-align: right;\">\n",
       "      <th></th>\n",
       "      <th>Edad</th>\n",
       "      <th>Servicios</th>\n",
       "      <th>Bienes</th>\n",
       "      <th>Empleados</th>\n",
       "      <th>Horas</th>\n",
       "      <th>Nivel_Educativo</th>\n",
       "      <th>Salario</th>\n",
       "      <th>Ingresos</th>\n",
       "    </tr>\n",
       "  </thead>\n",
       "  <tbody>\n",
       "    <tr>\n",
       "      <th>count</th>\n",
       "      <td>2299.00</td>\n",
       "      <td>2299.00</td>\n",
       "      <td>2299.00</td>\n",
       "      <td>2299.00</td>\n",
       "      <td>2299.00</td>\n",
       "      <td>2299.00</td>\n",
       "      <td>2299.00</td>\n",
       "      <td>2299.00</td>\n",
       "    </tr>\n",
       "    <tr>\n",
       "      <th>mean</th>\n",
       "      <td>36.21</td>\n",
       "      <td>4.37</td>\n",
       "      <td>172.45</td>\n",
       "      <td>0.64</td>\n",
       "      <td>1.70</td>\n",
       "      <td>8.06</td>\n",
       "      <td>777675.94</td>\n",
       "      <td>924721.17</td>\n",
       "    </tr>\n",
       "    <tr>\n",
       "      <th>std</th>\n",
       "      <td>10.41</td>\n",
       "      <td>0.99</td>\n",
       "      <td>176.83</td>\n",
       "      <td>0.27</td>\n",
       "      <td>8.27</td>\n",
       "      <td>4.03</td>\n",
       "      <td>1065359.76</td>\n",
       "      <td>1555414.45</td>\n",
       "    </tr>\n",
       "    <tr>\n",
       "      <th>min</th>\n",
       "      <td>15.00</td>\n",
       "      <td>0.00</td>\n",
       "      <td>0.00</td>\n",
       "      <td>0.00</td>\n",
       "      <td>0.00</td>\n",
       "      <td>0.00</td>\n",
       "      <td>100000.00</td>\n",
       "      <td>100000.00</td>\n",
       "    </tr>\n",
       "    <tr>\n",
       "      <th>25%</th>\n",
       "      <td>28.00</td>\n",
       "      <td>4.00</td>\n",
       "      <td>45.00</td>\n",
       "      <td>0.50</td>\n",
       "      <td>0.00</td>\n",
       "      <td>5.00</td>\n",
       "      <td>288194.44</td>\n",
       "      <td>330291.01</td>\n",
       "    </tr>\n",
       "    <tr>\n",
       "      <th>50%</th>\n",
       "      <td>34.00</td>\n",
       "      <td>5.00</td>\n",
       "      <td>128.00</td>\n",
       "      <td>0.50</td>\n",
       "      <td>0.00</td>\n",
       "      <td>7.67</td>\n",
       "      <td>467652.16</td>\n",
       "      <td>517500.00</td>\n",
       "    </tr>\n",
       "    <tr>\n",
       "      <th>75%</th>\n",
       "      <td>42.00</td>\n",
       "      <td>5.00</td>\n",
       "      <td>229.00</td>\n",
       "      <td>1.00</td>\n",
       "      <td>0.00</td>\n",
       "      <td>10.67</td>\n",
       "      <td>852222.22</td>\n",
       "      <td>954916.67</td>\n",
       "    </tr>\n",
       "    <tr>\n",
       "      <th>max</th>\n",
       "      <td>79.00</td>\n",
       "      <td>5.00</td>\n",
       "      <td>2575.00</td>\n",
       "      <td>1.00</td>\n",
       "      <td>182.00</td>\n",
       "      <td>16.00</td>\n",
       "      <td>18277941.00</td>\n",
       "      <td>26571008.25</td>\n",
       "    </tr>\n",
       "  </tbody>\n",
       "</table>\n",
       "</div>"
      ],
      "text/plain": [
       "         Edad  Servicios  Bienes  Empleados   Horas  Nivel_Educativo  \\\n",
       "count 2299.00    2299.00 2299.00    2299.00 2299.00          2299.00   \n",
       "mean    36.21       4.37  172.45       0.64    1.70             8.06   \n",
       "std     10.41       0.99  176.83       0.27    8.27             4.03   \n",
       "min     15.00       0.00    0.00       0.00    0.00             0.00   \n",
       "25%     28.00       4.00   45.00       0.50    0.00             5.00   \n",
       "50%     34.00       5.00  128.00       0.50    0.00             7.67   \n",
       "75%     42.00       5.00  229.00       1.00    0.00            10.67   \n",
       "max     79.00       5.00 2575.00       1.00  182.00            16.00   \n",
       "\n",
       "          Salario    Ingresos  \n",
       "count     2299.00     2299.00  \n",
       "mean    777675.94   924721.17  \n",
       "std    1065359.76  1555414.45  \n",
       "min     100000.00   100000.00  \n",
       "25%     288194.44   330291.01  \n",
       "50%     467652.16   517500.00  \n",
       "75%     852222.22   954916.67  \n",
       "max   18277941.00 26571008.25  "
      ]
     },
     "execution_count": 17,
     "metadata": {},
     "output_type": "execute_result"
    }
   ],
   "source": [
    "pd.set_option('display.float_format',lambda x:'%.2f'% x) #quitar la notacion cientifica\n",
    "df.describe()"
   ]
  },
  {
   "cell_type": "code",
   "execution_count": 18,
   "metadata": {},
   "outputs": [
    {
     "data": {
      "text/plain": [
       "Index(['Sexo', 'Edad', 'Estado Civil', 'Region', 'Servicios', 'Bienes',\n",
       "       'Empleados', 'Horas', 'Nivel_Educativo', 'Tipo de Casa', 'Estrato',\n",
       "       'tipo_vivienda', 'Salario', 'Ingresos'],\n",
       "      dtype='object')"
      ]
     },
     "execution_count": 18,
     "metadata": {},
     "output_type": "execute_result"
    }
   ],
   "source": [
    "## Variables del conjunto de datos\n",
    "df.columns"
   ]
  },
  {
   "cell_type": "code",
   "execution_count": 19,
   "metadata": {},
   "outputs": [
    {
     "data": {
      "text/plain": [
       "['Sexo', 'Estado Civil', 'Region', 'Tipo de Casa', 'Estrato', 'tipo_vivienda']"
      ]
     },
     "execution_count": 19,
     "metadata": {},
     "output_type": "execute_result"
    }
   ],
   "source": [
    "## Variables cualitativas\n",
    "cualitativas=['Sexo', 'Estado Civil', 'Region', 'Tipo de Casa', 'Estrato',\n",
    "       'tipo_vivienda']\n",
    "cualitativas"
   ]
  },
  {
   "cell_type": "code",
   "execution_count": 20,
   "metadata": {},
   "outputs": [
    {
     "data": {
      "text/plain": [
       "Index(['Edad', 'Servicios', 'Bienes', 'Empleados', 'Horas', 'Nivel_Educativo',\n",
       "       'Salario', 'Ingresos'],\n",
       "      dtype='object')"
      ]
     },
     "execution_count": 20,
     "metadata": {},
     "output_type": "execute_result"
    }
   ],
   "source": [
    "## Variables cuantitativas\n",
    "cuantitativas=df.columns.drop(cualitativas)\n",
    "cuantitativas"
   ]
  },
  {
   "cell_type": "code",
   "execution_count": 21,
   "metadata": {},
   "outputs": [
    {
     "data": {
      "text/plain": [
       "<Axes: >"
      ]
     },
     "execution_count": 21,
     "metadata": {},
     "output_type": "execute_result"
    },
    {
     "data": {
      "image/png": "[encoded data removed]",
      "text/plain": [
       "<Figure size 640x480 with 1 Axes>"
      ]
     },
     "metadata": {},
     "output_type": "display_data"
    }
   ],
   "source": [
    "# Diagrama de cajas o boxplot de la variable ingresos\n",
    "sns.boxplot(data=df[\"Ingresos\"])"
   ]
  },
  {
   "cell_type": "code",
   "execution_count": null,
   "metadata": {},
   "outputs": [],
   "source": [
    "#Analisis boxplot ingresos\n",
    "\n",
    "#LA variable ingresos tiene una gran cantidad de datos atipicos los cuales podrían afectar el analisis de dicha variable. \n",
    "#es por esto que para la siguiente entrega se realizará la eliminación de dichos datos atipicos."
   ]
  },
  {
   "cell_type": "code",
   "execution_count": 24,
   "metadata": {},
   "outputs": [
    {
     "data": {
      "text/plain": [
       "<Axes: xlabel='Nivel_Educativo', ylabel='Ingresos'>"
      ]
     },
     "execution_count": 24,
     "metadata": {},
     "output_type": "execute_result"
    },
    {
     "data": {
      "image/png": "[encoded data removed]",
      "text/plain": [
       "<Figure size 640x480 with 1 Axes>"
      ]
     },
     "metadata": {},
     "output_type": "display_data"
    }
   ],
   "source": [
    "sns.scatterplot(data=df, x=\"Nivel_Educativo\", y=\"Ingresos\",hue=\"Sexo\")"
   ]
  },
  {
   "cell_type": "code",
   "execution_count": null,
   "metadata": {},
   "outputs": [],
   "source": [
    "#Analisis Scatterplot nivel educativo e ingresos\n",
    "\n",
    "#Al realizar la gráfica no se observa una relación aparente entre el nivel educativo y los ingresos."
   ]
  },
  {
   "cell_type": "code",
   "execution_count": 27,
   "metadata": {},
   "outputs": [
    {
     "data": {
      "text/plain": [
       "<Axes: xlabel='Ingresos', ylabel='Bienes'>"
      ]
     },
     "execution_count": 27,
     "metadata": {},
     "output_type": "execute_result"
    },
    {
     "data": {
      "image/png": "[encoded data removed]",
      "text/plain": [
       "<Figure size 640x480 with 1 Axes>"
      ]
     },
     "metadata": {},
     "output_type": "display_data"
    }
   ],
   "source": [
    "sns.scatterplot(data=df, x=\"Ingresos\", y=\"Bienes\",hue=\"Sexo\")"
   ]
  },
  {
   "cell_type": "code",
   "execution_count": null,
   "metadata": {},
   "outputs": [],
   "source": [
    "#Analisis Scatterplot nivel educativo e ingresos\n",
    "\n",
    "#Al realizar la gráfica no se observa una relación aparente entre los ingresos y los bienes."
   ]
  }
 ],
 "metadata": {
  "kernelspec": {
   "display_name": "Python 3",
   "language": "python",
   "name": "python3"
  },
  "language_info": {
   "codemirror_mode": {
    "name": "ipython",
    "version": 3
   },
   "file_extension": ".py",
   "mimetype": "text/x-python",
   "name": "python",
   "nbconvert_exporter": "python",
   "pygments_lexer": "ipython3",
   "version": "3.10.6"
  },
  "orig_nbformat": 4
 },
 "nbformat": 4,
 "nbformat_minor": 2
}
